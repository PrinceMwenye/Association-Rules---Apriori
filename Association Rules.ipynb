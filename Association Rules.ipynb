{
 "cells": [
  {
   "cell_type": "code",
   "execution_count": null,
   "id": "14290a87-65fe-40b2-a9b1-bb939f1d5cbb",
   "metadata": {},
   "outputs": [],
   "source": [
    "import pandas as pd\n",
    "import numpy as np\n",
    "\n",
    "data = pd.read_csv('allsales.csv')  # from january 2016\n",
    "\n",
    "# remove 'Customer Total'\n",
    "data = data[data['Year'] != 'Customer Total:']"
   ]
  },
  {
   "cell_type": "code",
   "execution_count": null,
   "id": "31e709ab-b81a-4604-97b0-cc628145f413",
   "metadata": {},
   "outputs": [],
   "source": [
    "def acc_num(row: str) -> str:\n",
    "    \"\"\"Retrieve account number from .Prd column.\n",
    "    A function to get customer number from the .Prd column.\n",
    "    :param row: a string representing a column name\n",
    "    :precondition: row is a string representing dataset name\n",
    "    :postcondition: when iterating through 'row' column, it returns the customer account number from the .Prd column if the\n",
    "                    data value is 'Customer Number'. Otherwise, it returns a NaN value later used for querying.\n",
    "    :postcondition: dataset is changed\n",
    "    :return: account number\n",
    "    \"\"\"\n",
    "    if row['Year'] == 'Customer Number:':\n",
    "        return row['Prd.']\n",
    "    else:\n",
    "        return np.NaN\n",
    "\n",
    "# apply function to dataset\n",
    "data['acc_num'] = data.apply(lambda row: acc_num(row), axis=1)"
   ]
  },
  {
   "cell_type": "code",
   "execution_count": null,
   "id": "6b93a814-dedb-4111-b858-3d706d55db8b",
   "metadata": {},
   "outputs": [],
   "source": [
    "def acc_name(row: str) -> int:\n",
    "   \"\"\"Retrieve account name from .Prd column.\n",
    "   A function to get customer name from the .Prd column.\n",
    "   :param row: a string representing a column name\n",
    "   :precondition: row is a string representing dataset name\n",
    "   :postcondition: when iterating through 'row' column, it returns the customer account number from the .Prd column if the\n",
    "                   data value is 'Customer Number'. Otherwise, it returns a NaN value later used for querying.\n",
    "   :postcondition: dataset is changed\n",
    "   :return: account name\n",
    "    \"\"\"\n",
    "    if row['Year'] == 'Customer Number:':\n",
    "        return row['Date']\n",
    "    else:\n",
    "        return np.NaN\n",
    "\n",
    "\n",
    "data['Acc_name'] = data.apply(lambda row: acc_name(row), axis=1)"
   ]
  },
  {
   "cell_type": "code",
   "execution_count": null,
   "id": "f3b8d6d7-8651-4a9b-8f54-ef255cd3dea0",
   "metadata": {},
   "outputs": [],
   "source": [
    "def prod_name(row: str) -> str:\n",
    "    \"\"\"Retrieve product number from .Prd column.\n",
    "   A function to get product number from the .Prd column. This works on the fact that if the row value's fourth character\n",
    "   is a '/', then value in '.Prd' must be a product name\n",
    "   :param row: a string representing a column name\n",
    "   :precondition: row is a string representing dataset name\n",
    "   :postcondition: dataset is changed\n",
    "   :return: product name\n",
    "   \"\"\"\n",
    "    if str(row['Year'])[3:4] == '/':\n",
    "        return row['Prd.']\n",
    "    else:\n",
    "        return np.NaN\n",
    "\n",
    "\n",
    "data['Product_name'] = data.apply(lambda row: prod_name(row), axis=1)"
   ]
  },
  {
   "cell_type": "code",
   "execution_count": null,
   "id": "3566d8e9-9b2a-4480-93df-99c6aea254cb",
   "metadata": {},
   "outputs": [],
   "source": [
    "def prod_id(row):\n",
    "    \"\"\"Retrieve product number from .Prd column.\n",
    "   A function to get product number from the .Prd column. This works on the fact that if the row value's fourth character\n",
    "   is a '/', then value in 'Year' must be a product name\n",
    "   :param row: a string representing a column name\n",
    "   :precondition: row is a string representing dataset name\n",
    "   :postcondition: dataset is changed\n",
    "   :return: product id\n",
    "    \"\"\"\n",
    "    if str(row['Year'])[3:4] == '/':\n",
    "        return row['Year']\n",
    "    else:\n",
    "        return np.NaN\n",
    "\n",
    "\n",
    "data['Product_num'] = data.apply(lambda row: prod_id(row), axis=1)"
   ]
  },
  {
   "cell_type": "code",
   "execution_count": null,
   "id": "86eca65f-6ac6-4e3f-ad0a-5b457bdc6583",
   "metadata": {},
   "outputs": [],
   "source": [
    "# forward fill with na values\n",
    "data.iloc[:, [-1, -2, -3, -4]] = data.iloc[:, [-1, -2, -3, -4]].fillna(method='ffill')\n",
    "\n",
    "trial = data[\n",
    "    (data['Year'] == '2020') | (data['Year'] == '2019') | (data['Year'] == '2018') | (data['Year'] == '2017') | (\n",
    "                data['Year'] == '2016')]\n",
    "trial = trial.drop(['Year', 'Prd.', 'Type', 'Cost of Sales', 'Percent'], axis=1)\n"
   ]
  },
  {
   "cell_type": "code",
   "execution_count": null,
   "id": "026eee9b-0892-44c2-94c0-3c1d292fc15c",
   "metadata": {},
   "outputs": [],
   "source": [
    "def credits(row: str) -> str:\n",
    "    \"\"\"Identify invoices and credits.\n",
    "    This function works on the fact that if the first 2 characters in 'Transaction Number' are 'CN', then it definitely\n",
    "    is a Credit Note. Otherwise, it's definitely and invoice.\n",
    "    :param row: a string\n",
    "    :precondition: row is a string representing dataset name\n",
    "    :postcondition: dataset is changed\n",
    "    :return: a string\n",
    "    \"\"\"\n",
    "    if str(row['Transaction Number'])[0:2] == 'CN':\n",
    "        return 'credit'\n",
    "    else:\n",
    "        return 'invoice'\n",
    "\n",
    "\n",
    "trial['type'] = trial.apply(lambda row: credits(row), axis=1)"
   ]
  },
  {
   "cell_type": "code",
   "execution_count": null,
   "id": "01dc4b29-037d-4c70-ae33-3054ffb8d728",
   "metadata": {},
   "outputs": [],
   "source": [
    "trial = trial[trial['type'] != 'credit']  # remove all credit notes, customers might have bought wrong combination\n",
    "trial = trial[trial['Quantity'].notnull()]  # remove quantity with null value\n",
    "\n",
    "products = trial[['Transaction Number', 'Product_num', 'Date']]\n",
    "\n",
    "products = products.drop_duplicates()\n",
    "# products = products.groupby('Transaction Number')\n",
    "\n"
   ]
  },
  {
   "cell_type": "code",
   "execution_count": null,
   "id": "34eebcf4-ee3d-4c59-87b3-9c8a9cd8f958",
   "metadata": {},
   "outputs": [],
   "source": [
    "import datetime\n",
    "\n",
    "products['Date'] = pd.to_datetime(products['Date'])\n",
    "products['Year'] = products['Date'].map(lambda i: i.strftime(\"%Y\"))\n",
    "\n",
    "# separate transactions into different years\n",
    "# pro_2016 = products[products['Year']  == '2016']      #year 2016\n",
    "# pro_2017 = products[products['Year']  == '2017']           #year 2017\n",
    "# pro_2018 = products[products['Year']  == '2018']       #year 2018\n",
    "\n",
    "\n",
    "pro_2K19_20 = products[\n",
    "    (products['Year'] == '2019') | (products['Year'] == '2020')].  # 2019 and 2020 combined for relevancy\n",
    "\n",
    "freq_items = pro_2K19_20.groupby('Product_num').size().reset_index()\n",
    "freq_items = freq_items.sort_values(by=0, ascending=False)"
   ]
  },
  {
   "cell_type": "code",
   "execution_count": null,
   "id": "cce492fb-a28c-473e-bd84-78b21880b4e7",
   "metadata": {},
   "outputs": [],
   "source": []
  }
 ],
 "metadata": {
  "kernelspec": {
   "display_name": "Python 3",
   "language": "python",
   "name": "python3"
  },
  "language_info": {
   "codemirror_mode": {
    "name": "ipython",
    "version": 3
   },
   "file_extension": ".py",
   "mimetype": "text/x-python",
   "name": "python",
   "nbconvert_exporter": "python",
   "pygments_lexer": "ipython3",
   "version": "3.7.8"
  }
 },
 "nbformat": 4,
 "nbformat_minor": 5
}
